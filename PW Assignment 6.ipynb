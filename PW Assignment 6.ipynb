{
 "cells": [
  {
   "cell_type": "raw",
   "id": "fd7ecb3e-8ebc-41f3-9482-392e764ae662",
   "metadata": {},
   "source": [
    "Q1. Explain Class and Object with respect to Object-Oriented Programming. Give a suitable example."
   ]
  },
  {
   "cell_type": "raw",
   "id": "67dfa19b-8648-4146-b16d-5b6a09290f7b",
   "metadata": {},
   "source": [
    "In object-oriented programming (OOP), a class is a blueprint or template for creating objects, while an object is an instance of a class. A class is like a blueprint that describes the characteristics and behaviors of a certain type of object, and an object is a specific instance or realization of that blueprint."
   ]
  },
  {
   "cell_type": "code",
   "execution_count": 58,
   "id": "704f34b3-3d33-498b-9de9-5e492b655cb2",
   "metadata": {},
   "outputs": [],
   "source": [
    "class CAT:\n",
    "    def __init__(self, Rollno, Percentile , IIM):\n",
    "        self.Rollno = Rollno\n",
    "        self.Percentile = Percentile\n",
    "        self.IIM = IIM\n",
    "    \n",
    "    def admission(self):\n",
    "        print(f\"With {self.Percentile} percentile, {self.Rollno} is admitted to {self.IIM}.\")"
   ]
  },
  {
   "cell_type": "code",
   "execution_count": 59,
   "id": "ec29e083-d506-4e75-8afb-99f211cad097",
   "metadata": {},
   "outputs": [],
   "source": [
    "Cand_A = CAT(225500,95,\"IIM Amritsar\")\n",
    "Cand_B = CAT(225501,96,\"IIM Udaipur\")\n",
    "Cand_C = CAT(225502,97,\"IIM Jammu\")\n",
    "Cand_D = CAT(225503,98,\"IIM Sirmaur\")\n",
    "Cand_E = CAT(225504,99,\"IIM Sambhalpur\")"
   ]
  },
  {
   "cell_type": "code",
   "execution_count": 60,
   "id": "89f88a28-d055-4b6e-81b2-52ca9785efc8",
   "metadata": {},
   "outputs": [
    {
     "name": "stdout",
     "output_type": "stream",
     "text": [
      "With 95 percentile, 225500 is admitted to IIM Amritsar.\n",
      "With 96 percentile, 225501 is admitted to IIM Udaipur.\n",
      "With 97 percentile, 225502 is admitted to IIM Jammu.\n",
      "With 98 percentile, 225503 is admitted to IIM Sirmaur.\n",
      "With 99 percentile, 225504 is admitted to IIM Sambhalpur.\n"
     ]
    }
   ],
   "source": [
    "Cand_A.admission()\n",
    "Cand_B.admission()\n",
    "Cand_C.admission()\n",
    "Cand_D.admission()\n",
    "Cand_E.admission()"
   ]
  },
  {
   "cell_type": "raw",
   "id": "afa9c1f8-430f-49ba-bd73-c67f287a77e3",
   "metadata": {},
   "source": [
    "Q2. Name the four pillars of OOPs."
   ]
  },
  {
   "cell_type": "raw",
   "id": "95b1178a-9805-4b39-afdd-709c6d6c449e",
   "metadata": {},
   "source": [
    ">>>Encapsulation: Imagine you have a box that holds several items. Encapsulation is like putting those items inside the box and closing it. In OOP, encapsulation is about bundling related data (attributes) and functions (methods) into objects, and hiding the inner workings of those objects from the outside world. It allows you to control access to the internal state of an object, ensuring that it is accessed and modified only through designated methods. Encapsulation helps keep the code organized, improves security, and makes it easier to maintain and modify.\n",
    "\n",
    ">>>Inheritance: Think of inheritance as passing down traits or characteristics from one generation to the next. In OOP, inheritance allows you to define a new class based on an existing class, inheriting its attributes and behaviors. The new class is called a \"subclass\" or \"child class,\" and the existing class is called the \"superclass\" or \"parent class.\" This mechanism promotes code reusability and allows you to create specialized classes that inherit common characteristics from a more general class. It helps to organize and structure code, reducing duplication and making it easier to maintain.\n",
    "\n",
    ">>>Polymorphism: Polymorphism is like having multiple forms or shapes. In OOP, polymorphism allows objects of different classes to be treated as if they belong to a common class, enabling them to be used interchangeably. This means that you can have different objects that share a common interface, but each object can behave differently when the same method is called. Polymorphism helps create flexible and adaptable code, as it allows you to write code that can work with objects of different types, without needing to know their specific implementations.\n",
    "\n",
    ">>>Abstraction: Abstraction is about simplifying complex things by focusing on the essential aspects and hiding unnecessary details. In OOP, abstraction allows you to create abstract classes or interfaces that define the common behavior and characteristics of a group of related objects, without providing the specific implementation. This way, you can create a blueprint or contract for how objects should behave, and leave the implementation details to the concrete classes that inherit from the abstract class or implement the interface. Abstraction helps to manage complexity, promotes code modularity, and provides a higher level of understanding and interaction with objects."
   ]
  },
  {
   "cell_type": "raw",
   "id": "c67d694d-e644-456a-8f77-f9be7ea8dfb1",
   "metadata": {},
   "source": [
    "Q3. Explain why the __init__() function is used. Give a suitable example."
   ]
  },
  {
   "cell_type": "raw",
   "id": "356b0a32-fc79-4f41-8043-a16916d9d739",
   "metadata": {},
   "source": [
    ">>> The __init__() function is used in object-oriented programming (OOP) to set up or initialize an object when it is created from a class. It is like a special function that gets called automatically when a new object is being made, and its purpose is to prepare the object for use by assigning initial values to its attributes."
   ]
  },
  {
   "cell_type": "code",
   "execution_count": 49,
   "id": "b44b93a1-3e4c-4976-bf12-e0e00b2903d5",
   "metadata": {},
   "outputs": [],
   "source": [
    "class Person:\n",
    "    def __init__(self, name, age, profession):\n",
    "        self.name = name\n",
    "        self.age = age\n",
    "        self.profession = profession\n",
    "    def Job(self):\n",
    "        print(f\" {self.name}, who is {self.age} years old, works as a {self.profession}. \")\n",
    "        \n",
    "person1 = Person(\"Amiya\",32 , \"Financial Analyst\")"
   ]
  },
  {
   "cell_type": "code",
   "execution_count": 50,
   "id": "d7b58971-111d-4845-8eb1-3723c699d5ab",
   "metadata": {},
   "outputs": [
    {
     "name": "stdout",
     "output_type": "stream",
     "text": [
      " Amiya, who is 32 years old, works as a Financial Analyst. \n"
     ]
    }
   ],
   "source": [
    "person1.Job()"
   ]
  },
  {
   "cell_type": "raw",
   "id": "af4dba90-5793-4825-874d-325de904d723",
   "metadata": {},
   "source": [
    "Q4. Why self is used in OOPs?"
   ]
  },
  {
   "cell_type": "raw",
   "id": "557e66bb-f629-4455-85db-e868d2637ca6",
   "metadata": {},
   "source": [
    ">>> The self parameter acts as a reference to the current object. It allows methods within a class to access and manipulate the attributes of that specific object. By using self, the object can differentiate between its own attributes and those of other objects."
   ]
  },
  {
   "cell_type": "raw",
   "id": "36f5b9a1-0d61-4a93-9693-5045de021a47",
   "metadata": {},
   "source": [
    "Q5. What is inheritance? Give an example for each type of inheritance."
   ]
  },
  {
   "cell_type": "raw",
   "id": "ce5bb92f-d8c1-4b82-9020-294ab41a7f94",
   "metadata": {},
   "source": [
    ">>> Imagine you have a class called \"Animal\" that represents various animals, and it has some common attributes and behaviors like \"name\" and \"eat()\". Now, you want to create a more specific class called \"Dog\" that shares those common attributes and behaviours but also has some unique features like \"bark()\".\n",
    "\n",
    ">>> Instead of starting from scratch and redefining all the common attributes and behaviors again in the \"Dog\" class, inheritance allows you to create the \"Dog\" class by inheriting from the \"Animal\" class. This means that the \"Dog\" class automatically has all the attributes and behaviors defined in the \"Animal\" class, and you only need to add the unique features specific to dogs."
   ]
  },
  {
   "cell_type": "code",
   "execution_count": 61,
   "id": "9d29f8a8-a66b-4fea-ae2c-8852866672a5",
   "metadata": {},
   "outputs": [],
   "source": [
    "class Animal:\n",
    "    def __init__(self, name):\n",
    "        self.name = name\n",
    "    \n",
    "    def eat(self):\n",
    "        print(f\"{self.name} is eating.\")\n",
    "    \n",
    "class Dog(Animal):\n",
    "    def bark(self):\n",
    "        print(\"Woof woof!\")"
   ]
  },
  {
   "cell_type": "code",
   "execution_count": 62,
   "id": "e80a6c93-5f56-48cd-936e-a218ba30663f",
   "metadata": {},
   "outputs": [
    {
     "name": "stdout",
     "output_type": "stream",
     "text": [
      "Buddy is eating.\n",
      "Woof woof!\n"
     ]
    }
   ],
   "source": [
    "my_dog = Dog(\"Buddy\")\n",
    "my_dog.eat() \n",
    "my_dog.bark()"
   ]
  },
  {
   "cell_type": "code",
   "execution_count": null,
   "id": "cd075c37-3a80-435f-8ceb-4349a63058ea",
   "metadata": {},
   "outputs": [],
   "source": []
  }
 ],
 "metadata": {
  "kernelspec": {
   "display_name": "Python 3 (ipykernel)",
   "language": "python",
   "name": "python3"
  },
  "language_info": {
   "codemirror_mode": {
    "name": "ipython",
    "version": 3
   },
   "file_extension": ".py",
   "mimetype": "text/x-python",
   "name": "python",
   "nbconvert_exporter": "python",
   "pygments_lexer": "ipython3",
   "version": "3.10.8"
  }
 },
 "nbformat": 4,
 "nbformat_minor": 5
}
